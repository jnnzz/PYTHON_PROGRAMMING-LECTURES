{
 "cells": [
  {
   "cell_type": "code",
   "execution_count": 7,
   "id": "74a59e69",
   "metadata": {},
   "outputs": [],
   "source": [
    "def volume_sa_barrel(height,radius):\n",
    "    nahabilin_nga_height = (0.9*height)\n",
    "    vol = (nahabilin_nga_height*2*3.14)*(radius**2)\n",
    "    return vol"
   ]
  },
  {
   "cell_type": "code",
   "execution_count": 8,
   "id": "78c7761a",
   "metadata": {},
   "outputs": [
    {
     "data": {
      "text/plain": [
       "50.868"
      ]
     },
     "execution_count": 8,
     "metadata": {},
     "output_type": "execute_result"
    }
   ],
   "source": [
    "volume_sa_barrel(4,1.5)"
   ]
  },
  {
   "cell_type": "code",
   "execution_count": 9,
   "id": "7f916bdd",
   "metadata": {},
   "outputs": [],
   "source": [
    "def kick_back(height,radius):\n",
    "    nahabilin_nga_height = (0.1*height)\n",
    "    vol = (nahabilin_nga_height*2*3.14)*(radius**2)\n",
    "    return vol"
   ]
  },
  {
   "cell_type": "code",
   "execution_count": 11,
   "id": "c4b1b4c9",
   "metadata": {},
   "outputs": [
    {
     "data": {
      "text/plain": [
       "327.81600000000003"
      ]
     },
     "execution_count": 11,
     "metadata": {},
     "output_type": "execute_result"
    }
   ],
   "source": [
    "kwarta_nani = kick_back(4,1.5)\n",
    "kwarta_nani*58"
   ]
  },
  {
   "cell_type": "code",
   "execution_count": null,
   "id": "82d3bca7",
   "metadata": {},
   "outputs": [],
   "source": []
  }
 ],
 "metadata": {
  "kernelspec": {
   "display_name": "Python 3.12 (ipykernel)",
   "language": "python",
   "name": "python3"
  },
  "language_info": {
   "codemirror_mode": {
    "name": "ipython",
    "version": 3
   },
   "file_extension": ".py",
   "mimetype": "text/x-python",
   "name": "python",
   "nbconvert_exporter": "python",
   "pygments_lexer": "ipython3",
   "version": "3.12.3"
  }
 },
 "nbformat": 4,
 "nbformat_minor": 5
}
