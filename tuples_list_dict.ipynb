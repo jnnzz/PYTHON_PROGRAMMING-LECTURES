{
 "cells": [
  {
   "cell_type": "markdown",
   "id": "d9ecb206-9a6f-408d-965e-b6c67ad24e56",
   "metadata": {},
   "source": [
    "# Review Question 1"
   ]
  },
  {
   "cell_type": "code",
   "execution_count": 52,
   "id": "955e23e1-87e2-4393-b4ad-2a92f8b5dadf",
   "metadata": {},
   "outputs": [
    {
     "name": "stdout",
     "output_type": "stream",
     "text": [
      "('FIRST', 'SECOND', 'THIRD')\n"
     ]
    }
   ],
   "source": [
    "cardinal_numbers = (\"FIRST\", \"SECOND\", \"THIRD\")\n",
    "print(cardinal_numbers)"
   ]
  },
  {
   "cell_type": "code",
   "execution_count": 2,
   "id": "b2d8ee6d-9213-4e15-a9c6-82fa97f61fb9",
   "metadata": {},
   "outputs": [
    {
     "name": "stdout",
     "output_type": "stream",
     "text": [
      "SECOND\n"
     ]
    }
   ],
   "source": [
    "print(cardinal_numbers[1])"
   ]
  },
  {
   "cell_type": "code",
   "execution_count": 4,
   "id": "fed78223-b66d-4913-945f-a55c0260ccb0",
   "metadata": {},
   "outputs": [
    {
     "name": "stdout",
     "output_type": "stream",
     "text": [
      "FIRST\n",
      "SECOND\n",
      "THIRD\n"
     ]
    }
   ],
   "source": [
    "position1, position2, position3 = cardinal_numbers\n",
    "print(position1)\n",
    "print(position2)\n",
    "print(position3)"
   ]
  },
  {
   "cell_type": "code",
   "execution_count": 23,
   "id": "ac5bd5ed-3af3-46be-8189-1afc430600d8",
   "metadata": {},
   "outputs": [
    {
     "name": "stdout",
     "output_type": "stream",
     "text": [
      "('J', 'a', 'n', ' ', 'L', 'o', 'r', 'e', 'n', 'z', ' ', 'L', 'a', 'r', 'o', 'c', 'o')\n"
     ]
    }
   ],
   "source": [
    "my_name = tuple(\"Jan Lorenz Laroco\")\n",
    "print(my_name)"
   ]
  },
  {
   "cell_type": "code",
   "execution_count": 12,
   "id": "6d2f177d-dbae-40ca-ada9-038c97d1f1a1",
   "metadata": {},
   "outputs": [
    {
     "name": "stdout",
     "output_type": "stream",
     "text": [
      "False\n"
     ]
    }
   ],
   "source": [
    "print('x'in my_name)"
   ]
  },
  {
   "cell_type": "code",
   "execution_count": 33,
   "id": "8a421c96-5660-4c66-9bf2-22b2fa1f926c",
   "metadata": {},
   "outputs": [
    {
     "name": "stdout",
     "output_type": "stream",
     "text": [
      "('a', 'n', ' ', 'L', 'o', 'r', 'e', 'n', 'z', ' ', 'L', 'a', 'r', 'o', 'c', 'o')\n"
     ]
    }
   ],
   "source": [
    "first_letter = (my_name[1:])\n",
    "print(first_letter)"
   ]
  },
  {
   "cell_type": "markdown",
   "id": "ab5108d4-1fff-4b4c-832b-5d641f0b88c4",
   "metadata": {},
   "source": [
    "# Review Question 2"
   ]
  },
  {
   "cell_type": "code",
   "execution_count": 35,
   "id": "98491602-2c84-48d7-bbef-028442641463",
   "metadata": {},
   "outputs": [
    {
     "name": "stdout",
     "output_type": "stream",
     "text": [
      "['RICE', 'BEANS']\n"
     ]
    }
   ],
   "source": [
    "food = [\"RICE\", \"BEANS\"]\n",
    "print(food)"
   ]
  },
  {
   "cell_type": "code",
   "execution_count": 36,
   "id": "24488f24-2abb-43d0-879b-3dd9e49c0e5a",
   "metadata": {},
   "outputs": [
    {
     "name": "stdout",
     "output_type": "stream",
     "text": [
      "['RICE', 'BEANS', 'BROCCOLI']\n"
     ]
    }
   ],
   "source": [
    "food.append(\"BROCCOLI\")\n",
    "print(food)"
   ]
  },
  {
   "cell_type": "code",
   "execution_count": 39,
   "id": "f282227f-b23d-4546-8b3a-71e13b6723f2",
   "metadata": {},
   "outputs": [
    {
     "name": "stdout",
     "output_type": "stream",
     "text": [
      "['RICE', 'BEANS', 'BROCCOLI', 'BREAD', 'PIZZA']\n"
     ]
    }
   ],
   "source": [
    "food.extend([\"BREAD\", \"PIZZA\"])\n",
    "print(food)"
   ]
  },
  {
   "cell_type": "code",
   "execution_count": 40,
   "id": "819cee1a-b780-4595-9fd8-4cba49ec9f5b",
   "metadata": {},
   "outputs": [
    {
     "name": "stdout",
     "output_type": "stream",
     "text": [
      "['RICE', 'BEANS']\n"
     ]
    }
   ],
   "source": [
    "print(food[0:2])"
   ]
  },
  {
   "cell_type": "code",
   "execution_count": 43,
   "id": "14c6a67e-8049-44ef-97a8-063f770f7491",
   "metadata": {},
   "outputs": [
    {
     "name": "stdout",
     "output_type": "stream",
     "text": [
      "PIZZA\n"
     ]
    }
   ],
   "source": [
    "last = food[len(food)-1]\n",
    "print(last)"
   ]
  },
  {
   "cell_type": "code",
   "execution_count": 52,
   "id": "5f91fe91-7083-4413-a745-7cad2fe70010",
   "metadata": {},
   "outputs": [
    {
     "name": "stdout",
     "output_type": "stream",
     "text": [
      "['Eggs', 'Fruit', 'Orange Juice']\n"
     ]
    }
   ],
   "source": [
    "breakfast = \"Eggs, Fruit, Orange Juice\"\n",
    "breakfast = breakfast.split(\", \")\n",
    "print(breakfast)"
   ]
  },
  {
   "cell_type": "code",
   "execution_count": 53,
   "id": "6e6d211b-a756-4bf2-aa0f-a3a6f4723da9",
   "metadata": {},
   "outputs": [
    {
     "name": "stdout",
     "output_type": "stream",
     "text": [
      "3\n"
     ]
    }
   ],
   "source": [
    "has_three = len(breakfast)\n",
    "print(has_three)"
   ]
  },
  {
   "cell_type": "code",
   "execution_count": 59,
   "id": "d82a7c67-5939-4650-97bf-a737898cc2ab",
   "metadata": {},
   "outputs": [
    {
     "name": "stdout",
     "output_type": "stream",
     "text": [
      "[4, 5, 12]\n"
     ]
    }
   ],
   "source": [
    "lengths = [len(length) for length in breakfast]\n",
    "print(lengths)"
   ]
  },
  {
   "cell_type": "markdown",
   "id": "1c471d20-1c78-40db-89b7-241edf58fa6f",
   "metadata": {},
   "source": [
    "# Review Question 3"
   ]
  },
  {
   "cell_type": "code",
   "execution_count": 60,
   "id": "b956f501-a2f4-464d-99bc-df204044b221",
   "metadata": {},
   "outputs": [
    {
     "name": "stdout",
     "output_type": "stream",
     "text": [
      "((1, 2), (3, 4))\n"
     ]
    }
   ],
   "source": [
    "tuple_data = ((1,2), (3,4))\n",
    "print(tuple_data)"
   ]
  },
  {
   "cell_type": "code",
   "execution_count": 51,
   "id": "79809649-00f4-4b43-a5c3-cf2ced606c9c",
   "metadata": {},
   "outputs": [
    {
     "name": "stdout",
     "output_type": "stream",
     "text": [
      "sum:  3\n",
      "sum:  7\n"
     ]
    }
   ],
   "source": [
    "tuple_data = ((1,2), (3,4))\n",
    "\n",
    "for data in tuple_data:\n",
    "    print(\"sum: \",sum(data))"
   ]
  },
  {
   "cell_type": "code",
   "execution_count": 5,
   "id": "0505f7d4-aecb-4a52-9a99-46de1d0f51d2",
   "metadata": {},
   "outputs": [
    {
     "name": "stdout",
     "output_type": "stream",
     "text": [
      "[5, 4, 3, 9]\n"
     ]
    }
   ],
   "source": [
    "numbers_list = [5,4,3,9]\n",
    "numbers = numbers_list[:]\n",
    "print(numbers)"
   ]
  },
  {
   "cell_type": "code",
   "execution_count": 9,
   "id": "05a0620b-8bce-4565-b8ba-9b7dbd39417c",
   "metadata": {},
   "outputs": [
    {
     "name": "stdout",
     "output_type": "stream",
     "text": [
      "[3, 4, 5, 9]\n"
     ]
    }
   ],
   "source": [
    "numbers_list.sort()\n",
    "print(numbers_list)"
   ]
  },
  {
   "cell_type": "markdown",
   "id": "446722b1-bafa-4adf-9e87-d07f5ceb7141",
   "metadata": {},
   "source": [
    "# CHALLENGE LIST OF LISTS"
   ]
  },
  {
   "cell_type": "code",
   "execution_count": 1,
   "id": "59ab257d-ab2b-4e30-b1bb-1598b2c9b2df",
   "metadata": {},
   "outputs": [
    {
     "name": "stdout",
     "output_type": "stream",
     "text": [
      "[['California Institute of Technology', 2175, 37704], ['Harvard', 19627, 39849], ['Massachusetts Institute of Technology', 10566, 40732], ['Princeton', 7802, 37000], ['Rice', 5879, 35551], ['Stanford', 19535, 40569], ['Yale', 11701, 40500]]\n"
     ]
    }
   ],
   "source": [
    "universities = [\n",
    "    ['California Institute of Technology', 2175, 37704],\n",
    "    ['Harvard', 19627, 39849],\n",
    "    ['Massachusetts Institute of Technology', 10566, 40732],\n",
    "    ['Princeton', 7802, 37000],\n",
    "    ['Rice', 5879, 35551],\n",
    "    ['Stanford', 19535, 40569],\n",
    "    ['Yale', 11701, 40500]\n",
    "]\n",
    "print(universities)"
   ]
  },
  {
   "cell_type": "markdown",
   "id": "a64891c8-c05f-4a13-b464-9984ce9b9a08",
   "metadata": {},
   "source": [
    "# CHALLENGE WAX POETIC"
   ]
  },
  {
   "cell_type": "code",
   "execution_count": 3,
   "id": "fda24824-edf3-4ff7-8c3d-716245298265",
   "metadata": {},
   "outputs": [
    {
     "name": "stdout",
     "output_type": "stream",
     "text": [
      "['fossil', 'horse', 'aardvark', 'judge', 'chef', 'mango', 'extrovert', 'gorilla']\n",
      "['kicks', 'jingles', 'bounces', 'slurps', 'meows', 'explodes', 'curdles']\n",
      "['furry', 'balding', 'incredulous', 'fragrant', 'exuberant', 'glistening']\n",
      "['against', 'after', 'into', 'beneath', 'upon', 'for', 'in', 'like', 'over', 'within']\n",
      "['curiously', 'furiously', 'sensuously', 'extravagantly', 'tantalizingly']\n"
     ]
    }
   ],
   "source": [
    "nouns = [\"fossil\", \"horse\", \"aardvark\", \"judge\", \"chef\", \"mango\", \"extrovert\", \"gorilla\"]\n",
    "verbs = [\"kicks\", \"jingles\", \"bounces\", \"slurps\", \"meows\", \"explodes\", \"curdles\"]\n",
    "adjectives = [\"furry\", \"balding\", \"incredulous\", \"fragrant\", \"exuberant\", \"glistening\"]\n",
    "prepositions = [\"against\", \"after\", \"into\", \"beneath\", \"upon\", \"for\", \"in\", \"like\", \"over\", \"within\"]\n",
    "adverbs = [\"curiously\", \"furiously\", \"sensuously\", \"extravagantly\", \"tantalizingly\"]\n",
    "print(nouns)\n",
    "print(verbs)\n",
    "print(adjectives)\n",
    "print(prepositions)\n",
    "print(adverbs)"
   ]
  },
  {
   "cell_type": "markdown",
   "id": "7bcf5ef9-8bb9-4528-9d15-6f5adf01d1dd",
   "metadata": {},
   "source": [
    "# REVIEW QUESTION 4"
   ]
  },
  {
   "cell_type": "code",
   "execution_count": 36,
   "id": "a5b60e3b-ea37-4478-ae93-c1e51217ac52",
   "metadata": {},
   "outputs": [
    {
     "name": "stdout",
     "output_type": "stream",
     "text": [
      "{}\n"
     ]
    }
   ],
   "source": [
    "captains = {}\n",
    "print(captains)"
   ]
  },
  {
   "cell_type": "code",
   "execution_count": 37,
   "id": "38a33e47-8cc2-4cc4-aa06-8099892ba11e",
   "metadata": {},
   "outputs": [
    {
     "name": "stdout",
     "output_type": "stream",
     "text": [
      "'Enterprise' : 'Picard'.\n",
      "'Voyager' : 'Janeway'.\n",
      "'Defiant' : 'Sisko'.\n"
     ]
    }
   ],
   "source": [
    "captains[\"Enterprise\"] = \"Picard\"\n",
    "captains[\"Voyager\"] = \"Janeway\"\n",
    "captains[\"Defiant\"] = \"Sisko\"\n",
    "for cap in captains:\n",
    "    print(f\"'{cap}' : '{captains[cap]}'.\")"
   ]
  },
  {
   "cell_type": "code",
   "execution_count": 38,
   "id": "66d613f4-c9dd-4ae6-8262-d0a63e08c849",
   "metadata": {},
   "outputs": [
    {
     "name": "stdout",
     "output_type": "stream",
     "text": [
      "{'Enterprise': 'Picard', 'Voyager': 'Janeway', 'Defiant': 'Sisko', 'Discovery': 'Unknown'}\n"
     ]
    }
   ],
   "source": [
    "if \"Enterprise\" not in captains:\n",
    "    captains[\"Enterprise\"] = \"Unknown\"\n",
    "if \"Discovery\" not in captains:\n",
    "    captains[\"Discovery\"] = \"Unknown\"\n",
    "print(captains)"
   ]
  },
  {
   "cell_type": "code",
   "execution_count": 39,
   "id": "7f9dabdb-6263-4e36-8f3b-e529cb891228",
   "metadata": {},
   "outputs": [
    {
     "name": "stdout",
     "output_type": "stream",
     "text": [
      "The Enterprise is captained by Picard.\n",
      "The Voyager is captained by Janeway.\n",
      "The Defiant is captained by Sisko.\n",
      "The Discovery is captained by Unknown.\n"
     ]
    }
   ],
   "source": [
    "for captain in captains:\n",
    "    print(f\"The {captain} is captained by {captains[captain]}.\")"
   ]
  },
  {
   "cell_type": "code",
   "execution_count": 40,
   "id": "f9577292-416f-4bc0-bc66-4593ef90d430",
   "metadata": {},
   "outputs": [
    {
     "name": "stdout",
     "output_type": "stream",
     "text": [
      "'Enterprise : 'Picard'.\n",
      "'Voyager : 'Janeway'.\n",
      "'Defiant : 'Sisko'.\n"
     ]
    }
   ],
   "source": [
    "del captains['Discovery']\n",
    "for captain in captains:\n",
    "    print(f\"'{captain} : '{captains[captain]}'.\")"
   ]
  },
  {
   "cell_type": "code",
   "execution_count": 45,
   "id": "7cacebf1-d4fd-4d97-83bf-c5f58b4d1c67",
   "metadata": {},
   "outputs": [
    {
     "name": "stdout",
     "output_type": "stream",
     "text": [
      "'Enterprise : 'Picard'.\n",
      "'Voyager : 'Janeway'.\n",
      "'Defiant : 'Sisko'.\n"
     ]
    }
   ],
   "source": [
    "value_pairs = (\n",
    "    (\"Enterprise\", \"Picard\"),\n",
    "    (\"Voyager\", \"Janeway\"),\n",
    "    (\"Defiant\", \"Sisko\")\n",
    "    )\n",
    "new_value = dict(value_pairs)\n",
    "for value in new_value:\n",
    "    print(f\"'{value} : '{new_value[value]}'.\")"
   ]
  },
  {
   "cell_type": "markdown",
   "id": "5d0ab14f-fb23-4010-8183-772f5f6a4e98",
   "metadata": {},
   "source": [
    "# CHALLENGE CAPITAL CITY LOOP"
   ]
  },
  {
   "cell_type": "code",
   "execution_count": 48,
   "id": "a35cb129-d319-4942-9c72-bd9e42636c56",
   "metadata": {},
   "outputs": [
    {
     "name": "stdout",
     "output_type": "stream",
     "text": [
      "The capital of Alabama is Montgomery.\n",
      "The capital of Alaska is Juneau.\n",
      "The capital of Arizona is Phoenix.\n",
      "The capital of Arkansas is Little Rock.\n",
      "The capital of California is Sacramento.\n",
      "The capital of Colorado is Denver.\n",
      "The capital of Connecticut is Hartford.\n",
      "The capital of Delaware is Dover.\n",
      "The capital of Florida is Tallahassee.\n",
      "The capital of Georgia is Atlanta.\n"
     ]
    }
   ],
   "source": [
    "capitals_dict = {\n",
    "    'Alabama': 'Montgomery',\n",
    "    'Alaska': 'Juneau',\n",
    "    'Arizona': 'Phoenix',\n",
    "    'Arkansas': 'Little Rock',\n",
    "    'California': 'Sacramento',\n",
    "    'Colorado': 'Denver',\n",
    "    'Connecticut': 'Hartford',\n",
    "    'Delaware': 'Dover',\n",
    "    'Florida': 'Tallahassee',\n",
    "    'Georgia': 'Atlanta',\n",
    "}\n",
    "for state in capitals_dict:\n",
    "    print(f\"The capital of {state} is {capitals_dict[state]}.\")\n"
   ]
  },
  {
   "cell_type": "code",
   "execution_count": null,
   "id": "12a3f1eb-0126-4a68-bc69-1df4ce61f775",
   "metadata": {},
   "outputs": [],
   "source": []
  }
 ],
 "metadata": {
  "kernelspec": {
   "display_name": "Python 3 (ipykernel)",
   "language": "python",
   "name": "python3"
  },
  "language_info": {
   "codemirror_mode": {
    "name": "ipython",
    "version": 3
   },
   "file_extension": ".py",
   "mimetype": "text/x-python",
   "name": "python",
   "nbconvert_exporter": "python",
   "pygments_lexer": "ipython3",
   "version": "3.13.5"
  }
 },
 "nbformat": 4,
 "nbformat_minor": 5
}
