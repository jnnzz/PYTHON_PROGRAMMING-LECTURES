{
 "cells": [
  {
   "cell_type": "markdown",
   "id": "d9ecb206-9a6f-408d-965e-b6c67ad24e56",
   "metadata": {},
   "source": [
    "# Review Question 1"
   ]
  },
  {
   "cell_type": "markdown",
   "id": "002135ba-29be-42e2-93f3-ab7f1b831925",
   "metadata": {},
   "source": [
    "cardinal_numbers = (\"FIRST\", \"SECOND\", \"THIRD\")\n",
    "print(cardinal_numbers)"
   ]
  },
  {
   "cell_type": "code",
   "execution_count": 2,
   "id": "b2d8ee6d-9213-4e15-a9c6-82fa97f61fb9",
   "metadata": {},
   "outputs": [
    {
     "name": "stdout",
     "output_type": "stream",
     "text": [
      "SECOND\n"
     ]
    }
   ],
   "source": [
    "print(cardinal_numbers[1])"
   ]
  },
  {
   "cell_type": "code",
   "execution_count": 4,
   "id": "fed78223-b66d-4913-945f-a55c0260ccb0",
   "metadata": {},
   "outputs": [
    {
     "name": "stdout",
     "output_type": "stream",
     "text": [
      "FIRST\n",
      "SECOND\n",
      "THIRD\n"
     ]
    }
   ],
   "source": [
    "position1, position2, position3 = cardinal_numbers\n",
    "print(position1)\n",
    "print(position2)\n",
    "print(position3)"
   ]
  },
  {
   "cell_type": "code",
   "execution_count": 23,
   "id": "ac5bd5ed-3af3-46be-8189-1afc430600d8",
   "metadata": {},
   "outputs": [
    {
     "name": "stdout",
     "output_type": "stream",
     "text": [
      "('J', 'a', 'n', ' ', 'L', 'o', 'r', 'e', 'n', 'z', ' ', 'L', 'a', 'r', 'o', 'c', 'o')\n"
     ]
    }
   ],
   "source": [
    "my_name = tuple(\"Jan Lorenz Laroco\")\n",
    "print(my_name)"
   ]
  },
  {
   "cell_type": "code",
   "execution_count": 12,
   "id": "6d2f177d-dbae-40ca-ada9-038c97d1f1a1",
   "metadata": {},
   "outputs": [
    {
     "name": "stdout",
     "output_type": "stream",
     "text": [
      "False\n"
     ]
    }
   ],
   "source": [
    "print('x'in my_name)"
   ]
  },
  {
   "cell_type": "code",
   "execution_count": 33,
   "id": "8a421c96-5660-4c66-9bf2-22b2fa1f926c",
   "metadata": {},
   "outputs": [
    {
     "name": "stdout",
     "output_type": "stream",
     "text": [
      "('a', 'n', ' ', 'L', 'o', 'r', 'e', 'n', 'z', ' ', 'L', 'a', 'r', 'o', 'c', 'o')\n"
     ]
    }
   ],
   "source": [
    "first_letter = (my_name[1:])\n",
    "print(first_letter)"
   ]
  },
  {
   "cell_type": "markdown",
   "id": "ab5108d4-1fff-4b4c-832b-5d641f0b88c4",
   "metadata": {},
   "source": [
    "# Review Question 2"
   ]
  },
  {
   "cell_type": "code",
   "execution_count": 35,
   "id": "98491602-2c84-48d7-bbef-028442641463",
   "metadata": {},
   "outputs": [
    {
     "name": "stdout",
     "output_type": "stream",
     "text": [
      "['RICE', 'BEANS']\n"
     ]
    }
   ],
   "source": [
    "food = [\"RICE\", \"BEANS\"]\n",
    "print(food)"
   ]
  },
  {
   "cell_type": "code",
   "execution_count": 36,
   "id": "24488f24-2abb-43d0-879b-3dd9e49c0e5a",
   "metadata": {},
   "outputs": [
    {
     "name": "stdout",
     "output_type": "stream",
     "text": [
      "['RICE', 'BEANS', 'BROCCOLI']\n"
     ]
    }
   ],
   "source": [
    "food.append(\"BROCCOLI\")\n",
    "print(food)"
   ]
  },
  {
   "cell_type": "code",
   "execution_count": 39,
   "id": "f282227f-b23d-4546-8b3a-71e13b6723f2",
   "metadata": {},
   "outputs": [
    {
     "name": "stdout",
     "output_type": "stream",
     "text": [
      "['RICE', 'BEANS', 'BROCCOLI', 'BREAD', 'PIZZA']\n"
     ]
    }
   ],
   "source": [
    "food.extend([\"BREAD\", \"PIZZA\"])\n",
    "print(food)"
   ]
  },
  {
   "cell_type": "code",
   "execution_count": 40,
   "id": "819cee1a-b780-4595-9fd8-4cba49ec9f5b",
   "metadata": {},
   "outputs": [
    {
     "name": "stdout",
     "output_type": "stream",
     "text": [
      "['RICE', 'BEANS']\n"
     ]
    }
   ],
   "source": [
    "print(food[0:2])"
   ]
  },
  {
   "cell_type": "code",
   "execution_count": 43,
   "id": "14c6a67e-8049-44ef-97a8-063f770f7491",
   "metadata": {},
   "outputs": [
    {
     "name": "stdout",
     "output_type": "stream",
     "text": [
      "PIZZA\n"
     ]
    }
   ],
   "source": [
    "last = food[len(food)-1]\n",
    "print(last)"
   ]
  },
  {
   "cell_type": "code",
   "execution_count": 52,
   "id": "5f91fe91-7083-4413-a745-7cad2fe70010",
   "metadata": {},
   "outputs": [
    {
     "name": "stdout",
     "output_type": "stream",
     "text": [
      "['Eggs', 'Fruit', 'Orange Juice']\n"
     ]
    }
   ],
   "source": [
    "breakfast = \"Eggs, Fruit, Orange Juice\"\n",
    "breakfast = breakfast.split(\", \")\n",
    "print(breakfast)"
   ]
  },
  {
   "cell_type": "code",
   "execution_count": 53,
   "id": "6e6d211b-a756-4bf2-aa0f-a3a6f4723da9",
   "metadata": {},
   "outputs": [
    {
     "name": "stdout",
     "output_type": "stream",
     "text": [
      "3\n"
     ]
    }
   ],
   "source": [
    "has_three = len(breakfast)\n",
    "print(has_three)"
   ]
  },
  {
   "cell_type": "code",
   "execution_count": 59,
   "id": "d82a7c67-5939-4650-97bf-a737898cc2ab",
   "metadata": {},
   "outputs": [
    {
     "name": "stdout",
     "output_type": "stream",
     "text": [
      "[4, 5, 12]\n"
     ]
    }
   ],
   "source": [
    "lengths = [len(length) for length in breakfast]\n",
    "print(lengths)"
   ]
  },
  {
   "cell_type": "markdown",
   "id": "1c471d20-1c78-40db-89b7-241edf58fa6f",
   "metadata": {},
   "source": [
    "# Review Question 3"
   ]
  },
  {
   "cell_type": "code",
   "execution_count": 60,
   "id": "b956f501-a2f4-464d-99bc-df204044b221",
   "metadata": {},
   "outputs": [
    {
     "name": "stdout",
     "output_type": "stream",
     "text": [
      "((1, 2), (3, 4))\n"
     ]
    }
   ],
   "source": [
    "tuple_data = ((1,2), (3,4))\n",
    "print(tuple_data)"
   ]
  },
  {
   "cell_type": "code",
   "execution_count": 4,
   "id": "79809649-00f4-4b43-a5c3-cf2ced606c9c",
   "metadata": {},
   "outputs": [
    {
     "name": "stdout",
     "output_type": "stream",
     "text": [
      "3\n",
      "7\n"
     ]
    }
   ],
   "source": [
    "tuple_data = ((1,2), (3,4))\n",
    "\n",
    "for data in tuple_data:\n",
    "    print(sum(data))"
   ]
  },
  {
   "cell_type": "code",
   "execution_count": 5,
   "id": "0505f7d4-aecb-4a52-9a99-46de1d0f51d2",
   "metadata": {},
   "outputs": [
    {
     "name": "stdout",
     "output_type": "stream",
     "text": [
      "[5, 4, 3, 9]\n"
     ]
    }
   ],
   "source": [
    "numbers_list = [5,4,3,9]\n",
    "numbers = numbers_list[:]\n",
    "print(numbers)"
   ]
  },
  {
   "cell_type": "code",
   "execution_count": 9,
   "id": "05a0620b-8bce-4565-b8ba-9b7dbd39417c",
   "metadata": {},
   "outputs": [
    {
     "name": "stdout",
     "output_type": "stream",
     "text": [
      "[3, 4, 5, 9]\n"
     ]
    }
   ],
   "source": [
    "numbers_list.sort()\n",
    "print(numbers_list)"
   ]
  },
  {
   "cell_type": "code",
   "execution_count": null,
   "id": "59ab257d-ab2b-4e30-b1bb-1598b2c9b2df",
   "metadata": {},
   "outputs": [],
   "source": []
  }
 ],
 "metadata": {
  "kernelspec": {
   "display_name": "Python [conda env:base] *",
   "language": "python",
   "name": "conda-base-py"
  },
  "language_info": {
   "codemirror_mode": {
    "name": "ipython",
    "version": 3
   },
   "file_extension": ".py",
   "mimetype": "text/x-python",
   "name": "python",
   "nbconvert_exporter": "python",
   "pygments_lexer": "ipython3",
   "version": "3.13.5"
  }
 },
 "nbformat": 4,
 "nbformat_minor": 5
}
