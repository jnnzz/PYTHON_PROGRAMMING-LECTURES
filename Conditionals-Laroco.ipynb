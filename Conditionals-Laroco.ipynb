{
 "cells": [
  {
   "cell_type": "markdown",
   "id": "2c065cac-a851-43ce-acf7-9a9ae36383fb",
   "metadata": {},
   "source": [
    "# Review Question 1"
   ]
  },
  {
   "cell_type": "code",
   "execution_count": 8,
   "id": "af2ac2c5-3d8b-4a3b-8d0b-1c834a2d9264",
   "metadata": {},
   "outputs": [
    {
     "name": "stdout",
     "output_type": "stream",
     "text": [
      "Results: \n",
      " True \n",
      " False \n",
      " True \n",
      " True \n",
      " True \n",
      " False\n"
     ]
    }
   ],
   "source": [
    "a = 1<=1\n",
    "b = 1!=1\n",
    "c = 1!=2\n",
    "d = \"good\" != \"bad\"\n",
    "e = \"good\" != \"Good\"\n",
    "f = 123 == \"123\"\n",
    "print(\"Results: \\n\",a,\"\\n\", b, \"\\n\", c,\"\\n\", d,\"\\n\", e,\"\\n\", f)"
   ]
  },
  {
   "cell_type": "code",
   "execution_count": 11,
   "id": "a273e8f9-4a56-4303-b985-27c30be54535",
   "metadata": {},
   "outputs": [
    {
     "name": "stdout",
     "output_type": "stream",
     "text": [
      "Results: \n",
      " True \n",
      " True \n",
      " True \n",
      " True\n"
     ]
    }
   ],
   "source": [
    "g = 3 < 4\n",
    "h = 10 > 5\n",
    "i = \"jack\" != \"jill\"\n",
    "j = 42 != \"42\"\n",
    "print(\"Results: \\n\",g,\"\\n\", h,\"\\n\", i,\"\\n\", j)"
   ]
  },
  {
   "cell_type": "markdown",
   "id": "41e4d190-9217-4261-b45c-194991fa8249",
   "metadata": {},
   "source": [
    "# Review Question 2"
   ]
  },
  {
   "cell_type": "code",
   "execution_count": 17,
   "id": "cb8987e9-45bd-4bc1-ae5e-fd2c76d5a048",
   "metadata": {},
   "outputs": [
    {
     "name": "stdout",
     "output_type": "stream",
     "text": [
      "Results:\n",
      " False \n",
      " False \n",
      " True \n",
      " False\n"
     ]
    }
   ],
   "source": [
    "a = (1<=1) and (1 != 1)\n",
    "b = not (1 != 2)\n",
    "c = (\"good\" != \"bad\") or False\n",
    "d = (\"good\" != \"Good\") and not (1==1)\n",
    "print(\"Results:\\n\",a,\"\\n\", b,\"\\n\", c,\"\\n\", d)"
   ]
  },
  {
   "cell_type": "code",
   "execution_count": 2,
   "id": "2582f7f1-5122-4955-a641-eba499ee8e1c",
   "metadata": {},
   "outputs": [
    {
     "name": "stdout",
     "output_type": "stream",
     "text": [
      "Results: \n",
      " True \n",
      " True \n",
      " True\n"
     ]
    }
   ],
   "source": [
    "e = False == (not True)\n",
    "f = (True and False)  == (True and False)\n",
    "g = not ((True) and (\"A\" == \"B\"))\n",
    "print(\"Results: \\n\",e,\"\\n\",f,\"\\n\",g)"
   ]
  },
  {
   "cell_type": "markdown",
   "id": "f0e37e5e-ae09-4f89-80ea-cea8d277f726",
   "metadata": {},
   "source": [
    "# Review Question 3"
   ]
  },
  {
   "cell_type": "code",
   "execution_count": 6,
   "id": "54748086-a8fc-4f3b-91e8-1d02df18b651",
   "metadata": {},
   "outputs": [
    {
     "name": "stdin",
     "output_type": "stream",
     "text": [
      "Enter your input:  jannyy\n"
     ]
    },
    {
     "name": "stdout",
     "output_type": "stream",
     "text": [
      "Your input: jannyy\n",
      "Your input has more than 5 characters\n"
     ]
    }
   ],
   "source": [
    "user_input = input(\"Enter your input: \")\n",
    "print(f\"Your input: {user_input}\")\n",
    "if len(user_input) < 5:\n",
    "    print(\"Your input has less than 5 characters\")\n",
    "elif len(user_input) > 5:\n",
    "    print(\"Your input has more than 5 characters\")\n",
    "else:\n",
    "    print(\"Your input has 5 characters\")"
   ]
  },
  {
   "cell_type": "markdown",
   "id": "b7a2d808-fbb1-4943-b0c6-90e1063be6e6",
   "metadata": {},
   "source": [
    "# Review Question 4"
   ]
  },
  {
   "cell_type": "code",
   "execution_count": 4,
   "id": "ead827c4-be4a-4955-9a4b-3f9987c2753d",
   "metadata": {},
   "outputs": [
    {
     "name": "stdin",
     "output_type": "stream",
     "text": [
      "Enter some input (enter a word with 'q' or 'Q' to quit):  dsa\n"
     ]
    },
    {
     "name": "stdout",
     "output_type": "stream",
     "text": [
      "You entered: dsa\n"
     ]
    },
    {
     "name": "stdin",
     "output_type": "stream",
     "text": [
      "Enter some input (enter a word with 'q' or 'Q' to quit):  Q\n"
     ]
    },
    {
     "name": "stdout",
     "output_type": "stream",
     "text": [
      "Goodbye!\n"
     ]
    }
   ],
   "source": [
    "while True:\n",
    "    user_input = input(\"Enter some input (enter a word with 'q' or 'Q' to quit): \")\n",
    "    if 'q' in user_input.lower():\n",
    "        print(\"Goodbye!\")\n",
    "        break\n",
    "        \n",
    "    print(f\"You entered: {user_input}\")"
   ]
  },
  {
   "cell_type": "code",
   "execution_count": 8,
   "id": "991836a9-12f2-4a77-b76c-edd2f0e5f5f2",
   "metadata": {},
   "outputs": [
    {
     "name": "stdout",
     "output_type": "stream",
     "text": [
      "1\n",
      "2\n",
      "4\n",
      "5\n",
      "7\n",
      "8\n",
      "10\n",
      "11\n",
      "13\n",
      "14\n",
      "16\n",
      "17\n",
      "19\n",
      "20\n",
      "22\n",
      "23\n",
      "25\n",
      "26\n",
      "28\n",
      "29\n",
      "31\n",
      "32\n",
      "34\n",
      "35\n",
      "37\n",
      "38\n",
      "40\n",
      "41\n",
      "43\n",
      "44\n",
      "46\n",
      "47\n",
      "49\n",
      "50\n"
     ]
    }
   ],
   "source": [
    "for num in range(1, 51):\n",
    "    if num % 3 == 0:\n",
    "        continue  \n",
    "    print(num)"
   ]
  },
  {
   "cell_type": "markdown",
   "id": "7f3f227f-1bf0-415a-b598-e02f50d43f97",
   "metadata": {},
   "source": [
    "# Review Question 5"
   ]
  },
  {
   "cell_type": "code",
   "execution_count": 6,
   "id": "90b3c18f-9bc0-4e02-8f2e-30ea47abea34",
   "metadata": {},
   "outputs": [
    {
     "name": "stdin",
     "output_type": "stream",
     "text": [
      "Enter an integer:  qwerty\n"
     ]
    },
    {
     "name": "stdout",
     "output_type": "stream",
     "text": [
      "Try again. Please enter an integer.\n"
     ]
    },
    {
     "name": "stdin",
     "output_type": "stream",
     "text": [
      "Enter an integer:  32\n"
     ]
    },
    {
     "name": "stdout",
     "output_type": "stream",
     "text": [
      "Your input is: 32\n"
     ]
    }
   ],
   "source": [
    "while True:\n",
    "    try:\n",
    "        user_input = int(input(\"Enter an integer: \"))\n",
    "        break\n",
    "    except:\n",
    "        print(\"Try again. Please enter an integer.\")\n",
    "\n",
    "print(f\"Your input is: {user_input}\")\n"
   ]
  },
  {
   "cell_type": "code",
   "execution_count": 9,
   "id": "13de6b61-33c8-464e-9385-4aa817b5f59f",
   "metadata": {},
   "outputs": [
    {
     "name": "stdin",
     "output_type": "stream",
     "text": [
      "Input a string:  thanks\n",
      "Enter an integer:  2\n"
     ]
    },
    {
     "name": "stdout",
     "output_type": "stream",
     "text": [
      "Character at index 2: a\n"
     ]
    }
   ],
   "source": [
    "user_str = str(input(\"Input a string: \"))\n",
    "user_int = int(input(\"Enter an integer: \"))\n",
    "\n",
    "print(f\"Character at index {user_int}: {user_str[user_int]}\")"
   ]
  },
  {
   "cell_type": "markdown",
   "id": "b3b50203-231b-41e2-90b1-2244c3f7aa01",
   "metadata": {},
   "source": [
    "# Review Question 6"
   ]
  },
  {
   "cell_type": "code",
   "execution_count": 29,
   "id": "1f42b84f-5371-4835-bad0-37d1e298d8b7",
   "metadata": {},
   "outputs": [
    {
     "name": "stdout",
     "output_type": "stream",
     "text": [
      "The random number: 2\n"
     ]
    }
   ],
   "source": [
    "import random\n",
    "\n",
    "def roll():\n",
    "    return random.randint(1,6)\n",
    "\n",
    "print(f\"The random number: {roll()}\")"
   ]
  },
  {
   "cell_type": "code",
   "execution_count": 69,
   "id": "a080d754-49dd-4fcc-87a2-e66ee41a69c2",
   "metadata": {},
   "outputs": [
    {
     "name": "stdout",
     "output_type": "stream",
     "text": [
      "Values: 6\n",
      "Values: 3\n",
      "Values: 2\n",
      "Values: 5\n",
      "Values: 6\n",
      "Values: 3\n",
      "Values: 3\n",
      "Values: 4\n",
      "Values: 4\n",
      "Total of one: 0\n"
     ]
    }
   ],
   "source": [
    "import random\n",
    "one_total = 0\n",
    "two_total = 0\n",
    "three_total = 0\n",
    "four_total = 0\n",
    "five_total = 0\n",
    "six_total = 0\n",
    "average = one_total\n",
    "rolled = roll()\n",
    "\n",
    "for flips in range(1,10):\n",
    "    if rolled == 1:\n",
    "        one_total += 1\n",
    "    elif rolled == 2:\n",
    "        two_total += 1\n",
    "    elif rolled == 3:\n",
    "        three_total += 1\n",
    "    elif rolled == 4:\n",
    "        four_total += 1\n",
    "    elif rolled == 5:\n",
    "        five_total += 1\n",
    "    else:\n",
    "        six_total += 1\n",
    "    print(f\"Values: {roll()}\")\n",
    "print(f\"Total of one: {one_total}\")"
   ]
  },
  {
   "cell_type": "code",
   "execution_count": null,
   "id": "65f82e3c-7415-45b9-96ca-1a43516575be",
   "metadata": {},
   "outputs": [],
   "source": []
  },
  {
   "cell_type": "code",
   "execution_count": null,
   "id": "debd2d92-d28b-4f0b-b9e6-758fedafc428",
   "metadata": {},
   "outputs": [],
   "source": []
  },
  {
   "cell_type": "code",
   "execution_count": null,
   "id": "5f59a4e4-75a3-455a-b22a-c80b8e046dc6",
   "metadata": {},
   "outputs": [],
   "source": []
  }
 ],
 "metadata": {
  "kernelspec": {
   "display_name": "Python 3 (ipykernel)",
   "language": "python",
   "name": "python3"
  },
  "language_info": {
   "codemirror_mode": {
    "name": "ipython",
    "version": 3
   },
   "file_extension": ".py",
   "mimetype": "text/x-python",
   "name": "python",
   "nbconvert_exporter": "python",
   "pygments_lexer": "ipython3",
   "version": "3.13.5"
  }
 },
 "nbformat": 4,
 "nbformat_minor": 5
}
