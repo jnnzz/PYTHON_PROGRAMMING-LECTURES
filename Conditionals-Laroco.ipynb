{
 "cells": [
  {
   "cell_type": "markdown",
   "id": "2c065cac-a851-43ce-acf7-9a9ae36383fb",
   "metadata": {},
   "source": [
    "# Review Question 1"
   ]
  },
  {
   "cell_type": "code",
   "execution_count": 8,
   "id": "af2ac2c5-3d8b-4a3b-8d0b-1c834a2d9264",
   "metadata": {},
   "outputs": [
    {
     "name": "stdout",
     "output_type": "stream",
     "text": [
      "Results: \n",
      " True \n",
      " False \n",
      " True \n",
      " True \n",
      " True \n",
      " False\n"
     ]
    }
   ],
   "source": [
    "a = 1<=1\n",
    "b = 1!=1\n",
    "c = 1!=2\n",
    "d = \"good\" != \"bad\"\n",
    "e = \"good\" != \"Good\"\n",
    "f = 123 == \"123\"\n",
    "print(\"Results: \\n\",a,\"\\n\", b, \"\\n\", c,\"\\n\", d,\"\\n\", e,\"\\n\", f)"
   ]
  },
  {
   "cell_type": "code",
   "execution_count": 11,
   "id": "a273e8f9-4a56-4303-b985-27c30be54535",
   "metadata": {},
   "outputs": [
    {
     "name": "stdout",
     "output_type": "stream",
     "text": [
      "Results: \n",
      " True \n",
      " True \n",
      " True \n",
      " True\n"
     ]
    }
   ],
   "source": [
    "g = 3 < 4\n",
    "h = 10 > 5\n",
    "i = \"jack\" != \"jill\"\n",
    "j = 42 != \"42\"\n",
    "print(\"Results: \\n\",g,\"\\n\", h,\"\\n\", i,\"\\n\", j)"
   ]
  },
  {
   "cell_type": "markdown",
   "id": "41e4d190-9217-4261-b45c-194991fa8249",
   "metadata": {},
   "source": [
    "# Review Question 2"
   ]
  },
  {
   "cell_type": "code",
   "execution_count": 17,
   "id": "cb8987e9-45bd-4bc1-ae5e-fd2c76d5a048",
   "metadata": {},
   "outputs": [
    {
     "name": "stdout",
     "output_type": "stream",
     "text": [
      "Results:\n",
      " False \n",
      " False \n",
      " True \n",
      " False\n"
     ]
    }
   ],
   "source": [
    "a = (1<=1) and (1 != 1)\n",
    "b = not (1 != 2)\n",
    "c = (\"good\" != \"bad\") or False\n",
    "d = (\"good\" != \"Good\") and not (1==1)\n",
    "print(\"Results:\\n\",a,\"\\n\", b,\"\\n\", c,\"\\n\", d)"
   ]
  },
  {
   "cell_type": "code",
   "execution_count": 2,
   "id": "2582f7f1-5122-4955-a641-eba499ee8e1c",
   "metadata": {},
   "outputs": [
    {
     "name": "stdout",
     "output_type": "stream",
     "text": [
      "Results: \n",
      " True \n",
      " True \n",
      " True\n"
     ]
    }
   ],
   "source": [
    "e = False == (not True)\n",
    "f = (True and False)  == (True and False)\n",
    "g = not ((True) and (\"A\" == \"B\"))\n",
    "print(\"Results: \\n\",e,\"\\n\",f,\"\\n\",g)"
   ]
  },
  {
   "cell_type": "markdown",
   "id": "f0e37e5e-ae09-4f89-80ea-cea8d277f726",
   "metadata": {},
   "source": [
    "# Review Question 3"
   ]
  },
  {
   "cell_type": "code",
   "execution_count": 7,
   "id": "54748086-a8fc-4f3b-91e8-1d02df18b651",
   "metadata": {},
   "outputs": [
    {
     "name": "stdin",
     "output_type": "stream",
     "text": [
      "Enter your input:  qwertyer\n"
     ]
    },
    {
     "name": "stdout",
     "output_type": "stream",
     "text": [
      "Your input has more than 5 characters\n"
     ]
    }
   ],
   "source": [
    "user_input = input(\"Enter your input: \")\n",
    "if len(user_input) < 5:\n",
    "    print(\"Your input has less than 5 characters\")\n",
    "elif len(user_input) > 5:\n",
    "    print(\"Your input has more than 5 characters\")\n",
    "else:\n",
    "    print(\"Your input has 5 characters\")"
   ]
  },
  {
   "cell_type": "markdown",
   "id": "b7a2d808-fbb1-4943-b0c6-90e1063be6e6",
   "metadata": {},
   "source": [
    "# Review Question 4"
   ]
  },
  {
   "cell_type": "code",
   "execution_count": null,
   "id": "ead827c4-be4a-4955-9a4b-3f9987c2753d",
   "metadata": {},
   "outputs": [],
   "source": []
  }
 ],
 "metadata": {
  "kernelspec": {
   "display_name": "Python 3 (ipykernel)",
   "language": "python",
   "name": "python3"
  },
  "language_info": {
   "codemirror_mode": {
    "name": "ipython",
    "version": 3
   },
   "file_extension": ".py",
   "mimetype": "text/x-python",
   "name": "python",
   "nbconvert_exporter": "python",
   "pygments_lexer": "ipython3",
   "version": "3.13.5"
  }
 },
 "nbformat": 4,
 "nbformat_minor": 5
}
